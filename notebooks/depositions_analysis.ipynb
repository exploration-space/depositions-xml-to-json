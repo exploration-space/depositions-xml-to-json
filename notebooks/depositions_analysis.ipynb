{
 "cells": [
  {
   "cell_type": "code",
   "execution_count": 1,
   "metadata": {
    "colab": {},
    "colab_type": "code",
    "id": "TjtQqrYbw93t"
   },
   "outputs": [],
   "source": [
    "import numpy as np\n",
    "import pandas as pd\n",
    "# import nltk\n",
    "# import re\n",
    "\n",
    "# import gspread\n",
    "# from gspread.exceptions import WorksheetNotFound\n",
    "# from gspread_dataframe import get_as_dataframe, set_with_dataframe\n",
    "\n",
    "\n",
    "from Levenshtein import ratio\n",
    "from fuzzy import Soundex\n",
    "# import scipy.sparse as sps\n",
    "# import scipy.cluster.hierarchy as sch\n",
    "\n",
    "from collections import Counter\n",
    "\n",
    "# import spacy\n",
    "# from spacy.lemmatizer import Lemmatizer\n",
    "# from spacy.lang.en import LEMMA_INDEX, LEMMA_EXC, LEMMA_RULES\n",
    "\n",
    "from bokeh.plotting import figure, show\n",
    "from bokeh.io import output_notebook\n",
    "from bokeh.models import Whisker, Plot\n",
    "from bokeh.models import Plot, Range1d, MultiLine, Circle, HoverTool, \\\n",
    "BoxZoomTool, WheelZoomTool, ResetTool, PanTool, ColumnDataSource, LabelSet, FactorRange\n",
    "from bokeh.models.graphs import from_networkx\n",
    "\n",
    "from bokeh.layouts import gridplot\n",
    "\n",
    "\n",
    "\n",
    "# from bokeh.models import Plot, Range1d, MultiLine, Circle, HoverTool, \\\n",
    "# BoxZoomTool, WheelZoomTool, ResetTool, PanTool, ColumnDataSource, LabelSet\n",
    "\n",
    "# from bokeh.plotting import figure\n",
    "# from bokeh.transform import factor_cmap\n",
    "from bokeh.palettes import Category20_20, Accent\n",
    "\n",
    "# from bokeh.layouts import row\n",
    "\n",
    "# from sklearn.feature_extraction.text import CountVectorizer\n",
    "\n",
    "import networkx as nx\n",
    "\n",
    "# from bokeh.models.graphs import from_networkx\n",
    "\n",
    "import random\n",
    "import itertools\n",
    "import math\n",
    "\n",
    "import pprint\n",
    "pp = pprint.PrettyPrinter(indent=4)\n",
    "\n",
    "\n",
    "\n",
    "\n",
    "# from iteration_utilities import flatten\n",
    "\n",
    "# import matplotlib as mpl\n",
    "# import matplotlib.pyplot as plt"
   ]
  },
  {
   "cell_type": "code",
   "execution_count": 2,
   "metadata": {},
   "outputs": [],
   "source": [
    "depositions_df = pd.read_json('../converted_json/all_depositions.json')\n"
   ]
  },
  {
   "cell_type": "code",
   "execution_count": 3,
   "metadata": {},
   "outputs": [
    {
     "data": {
      "text/plain": [
       "country                                                           Ireland\n",
       "creation_date                                                   1643-3-10\n",
       "deponent_county                                                    [Cork]\n",
       "deponent_town                                             [Michellstowne]\n",
       "deposition_type                                                   [Bysse]\n",
       "filename                                           dep_824148r131_tei.xml\n",
       "nature_of_deposition                   [arson, Multiple Killing, Robbery]\n",
       "participants_number                                                     0\n",
       "people_list                                                            []\n",
       "signed_by               [{'role': 'Commissioner', 'name': 'Philip Byss...\n",
       "title                                                                 NaN\n",
       "Name: 4186, dtype: object"
      ]
     },
     "execution_count": 3,
     "metadata": {},
     "output_type": "execute_result"
    }
   ],
   "source": [
    "depositions_df.iloc[4186]"
   ]
  },
  {
   "cell_type": "code",
   "execution_count": null,
   "metadata": {},
   "outputs": [],
   "source": [
    "depositions_df['creation_date_period'] = pd.PeriodIndex(depositions_df['creation_date'], freq='d')"
   ]
  },
  {
   "cell_type": "code",
   "execution_count": null,
   "metadata": {},
   "outputs": [],
   "source": [
    "depositions_df.dtypes"
   ]
  },
  {
   "cell_type": "code",
   "execution_count": 9,
   "metadata": {},
   "outputs": [
    {
     "data": {
      "text/plain": [
       "list"
      ]
     },
     "execution_count": 9,
     "metadata": {},
     "output_type": "execute_result"
    }
   ],
   "source": [
    "type(depositions_df['deponent_town'][2])"
   ]
  },
  {
   "cell_type": "code",
   "execution_count": null,
   "metadata": {},
   "outputs": [],
   "source": [
    "depositions_df['creation_year'] = depositions_df['creation_date'].str.slice(start=0, stop=4)"
   ]
  },
  {
   "cell_type": "code",
   "execution_count": null,
   "metadata": {},
   "outputs": [],
   "source": [
    "depositions_df['creation_year'] = depositions_df['creation_year'].fillna('Unknown')"
   ]
  },
  {
   "cell_type": "code",
   "execution_count": null,
   "metadata": {},
   "outputs": [],
   "source": [
    "group_a = depositions_df.groupby('creation_year')"
   ]
  },
  {
   "cell_type": "code",
   "execution_count": null,
   "metadata": {
    "scrolled": false
   },
   "outputs": [],
   "source": [
    "group_a.describe()"
   ]
  },
  {
   "cell_type": "markdown",
   "metadata": {},
   "source": [
    "# Number of depositions per year"
   ]
  },
  {
   "cell_type": "code",
   "execution_count": null,
   "metadata": {},
   "outputs": [],
   "source": [
    "output_notebook()\n",
    "\n",
    "p = figure(plot_width=800, plot_height=600, x_range=group_a, title=\"Depositions by Year\",\n",
    "           toolbar_location=None, tools=\"\")\n",
    "\n",
    "p.vbar(x='creation_year', top='participants_number_count', width=0.8, source=group_a)\n",
    "\n",
    "p.y_range.start = 0\n",
    "p.xgrid.grid_line_color = None\n",
    "\n",
    "show(p)"
   ]
  },
  {
   "cell_type": "markdown",
   "metadata": {},
   "source": [
    "# Number of participants per deposition"
   ]
  },
  {
   "cell_type": "code",
   "execution_count": null,
   "metadata": {},
   "outputs": [],
   "source": [
    "depositions_df['participants_number'].describe()"
   ]
  },
  {
   "cell_type": "code",
   "execution_count": null,
   "metadata": {},
   "outputs": [],
   "source": [
    "depositions_df[depositions_df['participants_number'] == 0]"
   ]
  },
  {
   "cell_type": "code",
   "execution_count": null,
   "metadata": {},
   "outputs": [],
   "source": [
    "part_hist, edges = np.histogram(depositions_df['participants_number'], bins = list(range(0,50,1)))\n",
    "participants = pd.DataFrame({'part_hist' : part_hist, 'left': edges[:-1], 'right': edges[1:]})   "
   ]
  },
  {
   "cell_type": "code",
   "execution_count": null,
   "metadata": {},
   "outputs": [],
   "source": [
    "participants"
   ]
  },
  {
   "cell_type": "code",
   "execution_count": null,
   "metadata": {},
   "outputs": [],
   "source": [
    "output_notebook()\n",
    "\n",
    "p = figure(plot_width=800, \n",
    "           plot_height=600, \n",
    "           title=\"Histogram of Participants (up to 100) in 1641 Depositions\",\n",
    "           x_axis_label = \"Number of participants\",\n",
    "           y_axis_label = \"Number of depositions\")\n",
    "\n",
    "p.quad(bottom=0,\n",
    "       top=participants['part_hist'],\n",
    "       left=participants['left'],\n",
    "       right=participants['right'],\n",
    "       fill_color='red',\n",
    "       line_color='black')\n",
    "\n",
    "show(p)"
   ]
  },
  {
   "cell_type": "markdown",
   "metadata": {},
   "source": [
    "# People's names"
   ]
  },
  {
   "cell_type": "code",
   "execution_count": null,
   "metadata": {},
   "outputs": [],
   "source": [
    "name_counter = Counter()\n",
    "people_list = depositions_df['people_list'].tolist()\n",
    "names_list = []\n",
    "person2indx = {}\n",
    "#All participants have only one role (checked)\n",
    "indx2role = {}\n",
    "for i, dep_part in enumerate(people_list):\n",
    "    names = []\n",
    "    for person in dep_part:\n",
    "        person_str = ''\n",
    "        if 'forename' in person:\n",
    "            person_str += person['forename']\n",
    "        else:\n",
    "            person_str += 'None'\n",
    "        person_str += ' '\n",
    "        \n",
    "        if 'surname' in person:\n",
    "            person_str += person['surname']\n",
    "        else:\n",
    "            person_str += 'None'\n",
    "    \n",
    "        if person_str not in person2indx:\n",
    "            idx = len(person2indx)\n",
    "            person2indx[person_str] = idx\n",
    "            indx2role[idx] = {i : person['role']}\n",
    "            if person_str == 'Dauid Roch':\n",
    "                print('1',person_str, person['role'], i, idx)\n",
    "        else:\n",
    "            idx = person2indx[person_str]\n",
    "            indx2role[idx][i] = person['role']\n",
    "            if person_str == 'Dauid Roch':\n",
    "                print('2',person_str, person['role'], i)\n",
    "        name_counter[person_str] += 1\n",
    "        names.append(person_str)\n",
    "    names_list.append(names)\n",
    "\n",
    "indx2person = {v:k for k,v in person2indx.items()}"
   ]
  },
  {
   "cell_type": "code",
   "execution_count": null,
   "metadata": {},
   "outputs": [],
   "source": [
    "for i,name in enumerate(name_counter.most_common(1000)):\n",
    "    if name[0].split(' ')[0] == '*':\n",
    "        print(i, name)"
   ]
  },
  {
   "cell_type": "code",
   "execution_count": null,
   "metadata": {},
   "outputs": [],
   "source": [
    "sorted(list(filter(lambda x: x.split(' ')[0] == '*', name_counter.keys())))"
   ]
  },
  {
   "cell_type": "code",
   "execution_count": null,
   "metadata": {},
   "outputs": [],
   "source": [
    "sorted(list(filter(lambda x: x.split(' ')[1] == 'Roch', name_counter.keys())))"
   ]
  },
  {
   "cell_type": "markdown",
   "metadata": {},
   "source": [
    "# People network"
   ]
  },
  {
   "cell_type": "code",
   "execution_count": null,
   "metadata": {},
   "outputs": [],
   "source": [
    "soundex = Soundex(4)"
   ]
  },
  {
   "cell_type": "code",
   "execution_count": null,
   "metadata": {},
   "outputs": [],
   "source": [
    "G = nx.Graph()\n",
    "for i, dep_names in enumerate(names_list):\n",
    "    for person_a, person_b in itertools.combinations(dep_names, 2):\n",
    "        G.add_edge(person2indx[person_a], person2indx[person_b], deposition=i)\n",
    "    "
   ]
  },
  {
   "cell_type": "code",
   "execution_count": null,
   "metadata": {},
   "outputs": [],
   "source": [
    "print(names_list[783])\n",
    "print(people_list[4010])"
   ]
  },
  {
   "cell_type": "code",
   "execution_count": null,
   "metadata": {},
   "outputs": [],
   "source": [
    "indx2role"
   ]
  },
  {
   "cell_type": "code",
   "execution_count": null,
   "metadata": {},
   "outputs": [],
   "source": [
    "role_counter = Counter([a for d in indx2role.values() for a in d.values()])\n",
    "\n",
    "role2color = {n[0]:Category20_20[i] for i,n in enumerate(role_counter.most_common(20))}"
   ]
  },
  {
   "cell_type": "code",
   "execution_count": null,
   "metadata": {
    "scrolled": true
   },
   "outputs": [],
   "source": [
    "role2color"
   ]
  },
  {
   "cell_type": "code",
   "execution_count": null,
   "metadata": {},
   "outputs": [],
   "source": [
    "for node in G.nodes():\n",
    "    G.nodes[node]['full_name'] = indx2person[node]"
   ]
  },
  {
   "cell_type": "code",
   "execution_count": null,
   "metadata": {},
   "outputs": [],
   "source": [
    "adams_indxs = {k:v for k,v in person2indx.items() if k.split(\" \")[1] == \"Adams\"}\n"
   ]
  },
  {
   "cell_type": "code",
   "execution_count": null,
   "metadata": {
    "scrolled": true
   },
   "outputs": [],
   "source": [
    "adams_indxs"
   ]
  },
  {
   "cell_type": "code",
   "execution_count": null,
   "metadata": {},
   "outputs": [],
   "source": [
    "def merge_nodes(G,nodes, new_node, attr_dict=None):\n",
    "    \"\"\"\n",
    "    Merges the selected `nodes` of the graph G into one `new_node`,\n",
    "    meaning that all the edges that pointed to or from one of these\n",
    "    `nodes` will point to or from the `new_node`.\n",
    "    attr_dict and **attr are defined as in `G.add_node`.\n",
    "    \"\"\"\n",
    "    \n",
    "    G.add_node(new_node, **attr_dict) # Add the 'merged' node\n",
    "    edges_to_add = []\n",
    "    for n1,n2,data in G.edges(data=True):\n",
    "        # For all edges related to one of the nodes to merge,\n",
    "        # make an edge going to or coming from the `new gene`.\n",
    "        if n1 in nodes:\n",
    "            edges_to_add.append((new_node,n2,data))\n",
    "        elif n2 in nodes:\n",
    "            edges_to_add.append((n1,new_node,data))\n",
    "    \n",
    "    G.add_edges_from(edges_to_add)\n",
    "    \n",
    "    for n in nodes: # remove the merged nodes\n",
    "        G.remove_node(n)"
   ]
  },
  {
   "cell_type": "code",
   "execution_count": null,
   "metadata": {},
   "outputs": [],
   "source": [
    "def get_subgraph_for_pair(name_1, name_2, G):\n",
    "    name_1_indx = person2indx[name_1]\n",
    "    name_2_indx = person2indx[name_2]\n",
    "    pair = [name_1_indx, name_2_indx]\n",
    "    nodes = []\n",
    "    graph_1 = nx.ego_graph(G, name_1_indx)\n",
    "    graph_2 = nx.ego_graph(G, name_2_indx)\n",
    "    merge_graph = nx.compose(graph_1, graph_2)\n",
    "    \n",
    "    remove_edges = [] \n",
    "    for edge in merge_graph.edges():\n",
    "        if name_1_indx not in edge and name_2_indx not in edge:\n",
    "            remove_edges.append(edge)\n",
    "    merge_graph.remove_edges_from(remove_edges)\n",
    "    \n",
    "    depositions = set([edge[2]['deposition'] for edge in merge_graph.edges(data=True)])\n",
    "    \n",
    "    for node in merge_graph.nodes(data=True):\n",
    "        print(node)\n",
    "        print(indx2role[node[0]].keys())\n",
    "        print(depositions)\n",
    "        role_key = list(depositions.intersection(set(indx2role[node[0]].keys())))[0]\n",
    "        node_role = indx2role[node[0]][role_key]\n",
    "            \n",
    "        merge_graph.nodes[node[0]]['role'] = node_role\n",
    "        merge_graph.nodes[node[0]]['role_color'] = role2color[node_role] if node_role in role2color else \"black\"\n",
    "        \n",
    "        if node[0] == name_1_indx or node[0] == name_2_indx:\n",
    "            merge_graph.nodes[node[0]]['size'] = 0.07\n",
    "        else:\n",
    "            merge_graph.nodes[node[0]]['size'] = 0.035\n",
    "\n",
    "    \n",
    "    \n",
    "    print(len(depositions))\n",
    "    deposition_colors = {}\n",
    "    scale_i = 0\n",
    "    for edge in merge_graph.edges(data=True):\n",
    "        if edge[2]['deposition'] not in deposition_colors:\n",
    "            deposition_colors[edge[2]['deposition']] = Accent[3][scale_i]\n",
    "            scale_i += 1\n",
    "        edge[2]['deposition_color'] = deposition_colors[edge[2]['deposition']]\n",
    "        edge[2]['line_alpha'] = 1\n",
    "        \n",
    "    node_comb = itertools.combinations(merge_graph.nodes, 2)\n",
    "#     invisible_edges = []\n",
    "#     for idx_a, idx_b in node_comb:\n",
    "#         sim = ratio(indx2person[idx_a], indx2person[idx_b])\n",
    "#         if sim > 0.8:\n",
    "#             print(indx2person[idx_a], '/', indx2person[idx_b])\n",
    "# #             sound_a = \" \".join(soundex(k) for k in indx2person[idx_a].split(\" \"))\n",
    "# #             sound_b = \" \".join(soundex(k) for k in indx2person[idx_b].split(\" \"))\n",
    "# #             print(sound_a, sound_b)\n",
    "# #             print('----------')\n",
    "#             invisible_edges.append((idx_a, idx_b, {'inv' : True, \n",
    "#                                                    'similarity' : sim,\n",
    "#                                                    'line_alpha': 0,\n",
    "#                                                    'weight': 5 + sim}))\n",
    "                                   \n",
    "#     merge_graph.add_edges_from(invisible_edges)\n",
    "    \n",
    "    merge_pairs = {}\n",
    "    for idx_a, idx_b in node_comb:\n",
    "        sim = ratio(indx2person[idx_a], indx2person[idx_b])\n",
    "        if sim > 0.8:\n",
    "            attrs = {\n",
    "                'full_name' : merge_graph.nodes[idx_a]['full_name'],\n",
    "                'role' : merge_graph.nodes[idx_a]['role'],\n",
    "                'role_color' : merge_graph.nodes[idx_a]['role_color'],\n",
    "                'size' : merge_graph.nodes[idx_a]['size']\n",
    "                \n",
    "            }\n",
    "            merge_pairs[(idx_a, idx_b)] = attrs\n",
    "    \n",
    "    for (idx_a, idx_b), attrs in merge_pairs.items():\n",
    "        merge_nodes(merge_graph, [idx_a, idx_b], idx_a+idx_b, attrs)\n",
    "    \n",
    "\n",
    "    return merge_graph\n",
    "\n",
    "# def get_subgraph_for_pair(name_1, name_2, G):\n",
    "#     print('Hello')\n",
    "#     name_1_indx = person2indx[name_1]\n",
    "#     name_2_indx = person2indx[name_2]\n",
    "#     ego_g = nx.ego_graph(G, name_1_indx)\n",
    "#     return ego_g\n",
    "    \n",
    "    "
   ]
  },
  {
   "cell_type": "code",
   "execution_count": null,
   "metadata": {},
   "outputs": [],
   "source": [
    "interactions_c_a = Counter()\n",
    "for adam_name, indx in adams_indxs.items():\n",
    "    if 'Anselmus' in adam_name:\n",
    "        for neighbor in G.neighbors(indx):\n",
    "            interactions_c_a[neighbor] += 1\n",
    "# interactions_c.most_common()\n",
    "print(sorted(list(interactions_c_a.keys())))"
   ]
  },
  {
   "cell_type": "code",
   "execution_count": null,
   "metadata": {},
   "outputs": [],
   "source": [
    "# interactions_c_b = Counter()\n",
    "# for adam_name, indx in adams_indxs.items():\n",
    "#     if 'Ancelmus' in adam_name:\n",
    "#         for neighbor in G.neighbors(indx):\n",
    "#             interactions_c_b[neighbor] += 1\n",
    "# print(sorted(list(interactions_c_b.keys())))"
   ]
  },
  {
   "cell_type": "code",
   "execution_count": null,
   "metadata": {},
   "outputs": [],
   "source": [
    "# interactions_int = set(list(interactions_c_a.keys())).intersection(set(list(interactions_c_b.keys())))\n",
    "# for el in interactions_int:\n",
    "#     print(indx2person[el])"
   ]
  },
  {
   "cell_type": "code",
   "execution_count": null,
   "metadata": {},
   "outputs": [],
   "source": [
    "name_pairs = [('Anselmus Adams', 'Ancelmus Adams'), \n",
    "              ('Will: Adams', 'William Adams'), \n",
    "              ('Giles Adams', 'Gyles Adams'),\n",
    "              ('Randle Adams', 'Randall Adams')]\n",
    "name_pairs = [('Anselmus Adams', 'Ancelmus Adams'), \n",
    "              ('Will: Adams', 'William Adams'), \n",
    "              ('Giles Adams', 'Gyles Adams')]\n",
    "subgraphs = [get_subgraph_for_pair(pair[0], pair[1], G) for pair in name_pairs]"
   ]
  },
  {
   "cell_type": "code",
   "execution_count": null,
   "metadata": {},
   "outputs": [],
   "source": [
    "indx2role[3938]"
   ]
  },
  {
   "cell_type": "code",
   "execution_count": null,
   "metadata": {},
   "outputs": [],
   "source": [
    "subgraphs[0].nodes(data=True)"
   ]
  },
  {
   "cell_type": "code",
   "execution_count": null,
   "metadata": {},
   "outputs": [],
   "source": [
    "indx2role[3938]"
   ]
  },
  {
   "cell_type": "code",
   "execution_count": null,
   "metadata": {},
   "outputs": [],
   "source": [
    "pp.pprint(depositions_df.iloc[4010].people_list)\n",
    "print('------')\n",
    "pp.pprint(depositions_df.iloc[4186].people_list)\n",
    "print('------')\n",
    "pp.pprint(depositions_df.iloc[4932].people_list)"
   ]
  },
  {
   "cell_type": "code",
   "execution_count": null,
   "metadata": {},
   "outputs": [],
   "source": [
    "output_notebook()\n",
    "plots = []\n",
    "\n",
    "for i, G in enumerate(subgraphs[:1]):\n",
    "    \n",
    "    #Show network\n",
    "    plot = Plot(plot_width=800, plot_height=800, x_range=Range1d(-1.1, 1.1), y_range=Range1d(-1.1, 1.1))\n",
    "    plot.title.text = \"%s vs %s\" % name_pairs[i]\n",
    "    \n",
    "\n",
    "  # graph_renderer = from_networkx(G, nx.spring_layout, scale=1, k=0.09, center=(0, 0))\n",
    "  # graph_renderer = from_networkx(G, nx.kamada_kawai_layout, scale=1.0, dim=2)\n",
    "    graph_renderer = from_networkx(G, nx.spring_layout, k=.19, center=(0, 0))\n",
    "\n",
    "    graph_renderer.node_renderer.glyph = Circle(radius=\"size\", fill_color=\"role_color\")\n",
    "    graph_renderer.edge_renderer.glyph = MultiLine(line_color=\"deposition_color\", \n",
    "                                                   line_alpha=\"line_alpha\",\n",
    "                                                   line_width=2)\n",
    "    \n",
    "    node_hover_tool = HoverTool(tooltips=[(\"full_name\", \"@full_name\"), (\"role\", \"@role\")])\n",
    "#     edge_hover_tool = HoverTool(tooltips=[(\"deposition\", \"@deposition\")])\n",
    "#     plot.add_tools(node_hover_tool, edge_hover_tool, BoxZoomTool(), ResetTool(), PanTool(), WheelZoomTool())\n",
    "    plot.add_tools(node_hover_tool, BoxZoomTool(), ResetTool(), PanTool(), WheelZoomTool())\n",
    "    \n",
    "    plot.renderers.append(graph_renderer)\n",
    "\n",
    "\n",
    "    x, y = zip(*graph_renderer.layout_provider.graph_layout.values())\n",
    "    node_labels = [node[1]['full_name'] for node in G.nodes(data=True)]\n",
    "    \n",
    "    source = ColumnDataSource({'x': x, 'y': y,\n",
    "                             'full_name': node_labels})\n",
    "\n",
    "\n",
    "    labels = LabelSet(x='x', \n",
    "                    y='y', \n",
    "                    text='full_name', \n",
    "                    source=source,\n",
    "                    background_fill_color='white',\n",
    "                    background_fill_alpha=0.8,\n",
    "                    text_align='center', \n",
    "                    text_baseline='middle',\n",
    "                    x_offset=5,\n",
    "                    y_offset=15,\n",
    "                    text_font_size='0.6em')\n",
    "\n",
    "    plot.renderers.append(labels)\n",
    "    plots.append(plot)\n",
    "\n",
    "grid = gridplot(plots, ncols=3)\n",
    "show(grid)\n"
   ]
  },
  {
   "cell_type": "markdown",
   "metadata": {},
   "source": [
    "# Toponyms"
   ]
  },
  {
   "cell_type": "code",
   "execution_count": null,
   "metadata": {},
   "outputs": [],
   "source": [
    "toponyms_list = depositions_df['creation_place'].tolist()\n",
    "toponyms_counter = Counter()\n",
    "for i,d in enumerate(toponyms_list):\n",
    "    for k,v in d.items():\n",
    "        toponyms_counter[k+':'+v] += 1\n",
    "print(toponyms_counter.keys())"
   ]
  },
  {
   "cell_type": "code",
   "execution_count": null,
   "metadata": {},
   "outputs": [],
   "source": []
  }
 ],
 "metadata": {
  "colab": {
   "name": "keyword-analysis.ipynb",
   "provenance": [],
   "version": "0.3.2"
  },
  "kernelspec": {
   "display_name": "Python 3",
   "language": "python",
   "name": "python3"
  },
  "language_info": {
   "codemirror_mode": {
    "name": "ipython",
    "version": 3
   },
   "file_extension": ".py",
   "mimetype": "text/x-python",
   "name": "python",
   "nbconvert_exporter": "python",
   "pygments_lexer": "ipython3",
   "version": "3.6.5"
  }
 },
 "nbformat": 4,
 "nbformat_minor": 1
}
